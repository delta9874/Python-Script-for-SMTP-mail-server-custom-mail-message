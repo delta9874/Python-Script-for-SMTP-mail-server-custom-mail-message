{
 "cells": [
  {
   "cell_type": "markdown",
   "metadata": {},
   "source": [
    "SMTPAuthenticationError when sending mail using gmail and python, you need to give access to less secure app in google account settings.\n",
    "\n",
    "https://stackoverflow.com/questions/26852128/smtpauthenticationerror-when-sending-mail-using-gmail-and-python\n",
    "\n",
    "\n",
    "refrence\n",
    "https://www.freecodecamp.org/news/send-emails-using-code-4fcea9df63f/\n\n",
    "https://www.youtube.com/watch?v=JRCJ6RtE3xU\n",
    "\n",
    "\n",
    "\n"
   ]
  },
  {
   "cell_type": "code",
   "execution_count": 1,
   "metadata": {},
   "outputs": [],
   "source": [
    "import smtplib\n",
    "\n",
    "from string import Template\n",
    "\n",
    "from email.mime.multipart import MIMEMultipart\n",
    "from email.mime.text import MIMEText"
   ]
  },
  {
   "cell_type": "code",
   "execution_count": 2,
   "metadata": {},
   "outputs": [],
   "source": [
    "import pandas as pd\n",
    "import numpy as np"
   ]
  },
  {
   "cell_type": "code",
   "execution_count": 3,
   "metadata": {},
   "outputs": [],
   "source": [
    "df=pd.read_excel ('C:/Users/Delta/Desktop/New folder/cse.xlsx')"
   ]
  },
  {
   "cell_type": "code",
   "execution_count": 4,
   "metadata": {},
   "outputs": [
    {
     "data": {
      "text/html": [
       "<div>\n",
       "<style scoped>\n",
       "    .dataframe tbody tr th:only-of-type {\n",
       "        vertical-align: middle;\n",
       "    }\n",
       "\n",
       "    .dataframe tbody tr th {\n",
       "        vertical-align: top;\n",
       "    }\n",
       "\n",
       "    .dataframe thead th {\n",
       "        text-align: right;\n",
       "    }\n",
       "</style>\n",
       "<table border=\"1\" class=\"dataframe\">\n",
       "  <thead>\n",
       "    <tr style=\"text-align: right;\">\n",
       "      <th></th>\n",
       "      <th>Urol</th>\n",
       "      <th>Ureg</th>\n",
       "      <th>Department</th>\n",
       "      <th>name</th>\n",
       "      <th>number</th>\n",
       "      <th>Email_Id</th>\n",
       "    </tr>\n",
       "  </thead>\n",
       "  <tbody>\n",
       "    <tr>\n",
       "      <th>0</th>\n",
       "      <td>10200116066</td>\n",
       "      <td>161020110001</td>\n",
       "      <td>CSE</td>\n",
       "      <td>dummy name 1</td>\n",
       "      <td>123456789</td>\n",
       "      <td>saquibnazeer210@gmail.com</td>\n",
       "    </tr>\n",
       "    <tr>\n",
       "      <th>1</th>\n",
       "      <td>10200116065</td>\n",
       "      <td>16102011002</td>\n",
       "      <td>CSE</td>\n",
       "      <td>dummy name 2</td>\n",
       "      <td>123456790</td>\n",
       "      <td>saquibnazeer210@gmail.com</td>\n",
       "    </tr>\n",
       "    <tr>\n",
       "      <th>2</th>\n",
       "      <td>10200117020</td>\n",
       "      <td>171020120001</td>\n",
       "      <td>CSE</td>\n",
       "      <td>dummy name 3</td>\n",
       "      <td>123456791</td>\n",
       "      <td>saquibnazeer210@gmail.com</td>\n",
       "    </tr>\n",
       "    <tr>\n",
       "      <th>3</th>\n",
       "      <td>10200116068</td>\n",
       "      <td>161020110051</td>\n",
       "      <td>CSE</td>\n",
       "      <td>dummy name 4</td>\n",
       "      <td>123456792</td>\n",
       "      <td>saquibnazeer210@gmail.com</td>\n",
       "    </tr>\n",
       "    <tr>\n",
       "      <th>4</th>\n",
       "      <td>10200116064</td>\n",
       "      <td>161020110003</td>\n",
       "      <td>CSE</td>\n",
       "      <td>dummy name 5</td>\n",
       "      <td>123456793</td>\n",
       "      <td>saquibnazeer210@gmail.com</td>\n",
       "    </tr>\n",
       "  </tbody>\n",
       "</table>\n",
       "</div>"
      ],
      "text/plain": [
       "          Urol          Ureg Department          name     number  \\\n",
       "0  10200116066  161020110001        CSE  dummy name 1  123456789   \n",
       "1  10200116065   16102011002        CSE  dummy name 2  123456790   \n",
       "2  10200117020  171020120001        CSE  dummy name 3  123456791   \n",
       "3  10200116068  161020110051        CSE  dummy name 4  123456792   \n",
       "4  10200116064  161020110003        CSE  dummy name 5  123456793   \n",
       "\n",
       "                    Email_Id  \n",
       "0  saquibnazeer210@gmail.com  \n",
       "1  saquibnazeer210@gmail.com  \n",
       "2  saquibnazeer210@gmail.com  \n",
       "3  saquibnazeer210@gmail.com  \n",
       "4  saquibnazeer210@gmail.com  "
      ]
     },
     "execution_count": 4,
     "metadata": {},
     "output_type": "execute_result"
    }
   ],
   "source": [
    "df.head()"
   ]
  },
  {
   "cell_type": "code",
   "execution_count": 5,
   "metadata": {},
   "outputs": [],
   "source": [
    "myaddres=\"yourmailid@host.com\"\n",
    "mypassword= \"***************\""
   ]
  },
  {
   "cell_type": "code",
   "execution_count": 6,
   "metadata": {},
   "outputs": [],
   "source": [
    "from string import Template\n",
    "\n",
    "def read_template(message):\n",
    "    with open(message, 'r', encoding='utf-8') as template_file:\n",
    "        template_file_content = template_file.read()\n",
    "    return Template(template_file_content)\n",
    "\n",
    "message_template = read_template('message.txt')"
   ]
  },
  {
   "cell_type": "code",
   "execution_count": 7,
   "metadata": {},
   "outputs": [
    {
     "name": "stdout",
     "output_type": "stream",
     "text": [
      "hi  dummy name 1\n",
      "your roll number is 10200116066 and \n",
      "\n",
      "This is the test message \n",
      "\n",
      "from\n",
      "delta.\n"
     ]
    }
   ],
   "source": [
    "message = message_template.substitute(name=df.iloc[0,3],urol=df.iloc[0,0])\n",
    "\n",
    "        # Prints out the message body for our sake\n",
    "      \n",
    "print(message)"
   ]
  },
  {
   "cell_type": "code",
   "execution_count": 8,
   "metadata": {},
   "outputs": [
    {
     "name": "stdout",
     "output_type": "stream",
     "text": [
      "hi  dummy name 1\n",
      "your roll number is 10200116066 and \n",
      "\n",
      "This is the test message \n",
      "\n",
      "from\n",
      "delta.\n",
      "hi  dummy name 2\n",
      "your roll number is 10200116065 and \n",
      "\n",
      "This is the test message \n",
      "\n",
      "from\n",
      "delta.\n",
      "hi  dummy name 3\n",
      "your roll number is 10200117020 and \n",
      "\n",
      "This is the test message \n",
      "\n",
      "from\n",
      "delta.\n",
      "hi  dummy name 4\n",
      "your roll number is 10200116068 and \n",
      "\n",
      "This is the test message \n",
      "\n",
      "from\n",
      "delta.\n",
      "hi  dummy name 5\n",
      "your roll number is 10200116064 and \n",
      "\n",
      "This is the test message \n",
      "\n",
      "from\n",
      "delta.\n"
     ]
    },
    {
     "data": {
      "text/plain": [
       "(221, b'2.0.0 closing connection z11sm2528795pfk.141 - gsmtp')"
      ]
     },
     "execution_count": 8,
     "metadata": {},
     "output_type": "execute_result"
    }
   ],
   "source": [
    "message_template = read_template('message.txt')\n",
    "\n",
    "    # set up the SMTP server\n",
    "s = smtplib.SMTP('smtp.gmail.com', 587)\n",
    "#s.startssl()\n",
    "\n",
    "s.starttls()\n",
    "s.login(myaddres, mypassword)\n",
    "\n",
    "    # For each contact, send the email:\n",
    "for i in range(len(df)):\n",
    "        msg = MIMEMultipart()       # create a message\n",
    "\n",
    "        # add in the actual person name to the message template\n",
    "        message = message_template.substitute(name=df.iloc[i,3],urol=df.iloc[i,0])\n",
    "\n",
    "        # Prints out the message body for our sake\n",
    "        print(message)\n",
    "\n",
    "        # setup the parameters of the message\n",
    "        \n",
    "        msg['From']=myaddres\n",
    "        msg['To']=df.iloc[i,5]\n",
    "        msg['Subject']=\"This is TEST\"\n",
    "        \n",
    "        # add in the message body\n",
    "        msg.attach(MIMEText(message, 'plain'))\n",
    "        \n",
    "        # send the message via the server set up earlier.\n",
    "        s.send_message(msg)\n",
    "        del msg\n",
    "        \n",
    "    # Terminate the SMTP session and close the connection\n",
    "s.quit()"
   ]
  },
  {
   "cell_type": "markdown",
   "metadata": {},
   "source": [
    "def main():\n",
    "    names, emails = get_contacts('mycontacts.txt') # read contacts\n",
    "    message_template = read_template('message.txt')\n",
    "\n",
    "    # set up the SMTP server\n",
    "    s = smtplib.SMTP(host='your_host_address_here', port=your_port_here)\n",
    "    s.starttls()\n",
    "    s.login(MY_ADDRESS, PASSWORD)\n",
    "\n",
    "    #For each contact, send the email:\n",
    "    for name, email in zip(names, emails):\n",
    "        msg = MIMEMultipart()       # create a message\n",
    "\n",
    "        # add in the actual person name to the message template\n",
    "        message = message_template.substitute(PERSON_NAME=name.title())\n",
    "\n",
    "        # Prints out the message body for our sake\n",
    "        print(message)\n",
    "\n",
    "        # setup the parameters of the message\n",
    "        msg['From']=MY_ADDRESS\n",
    "        msg['To']=email\n",
    "        msg['Subject']=\"This is TEST\"\n",
    "        \n",
    "        # add in the message body\n",
    "        msg.attach(MIMEText(message, 'plain'))\n",
    "        \n",
    "        # send the message via the server set up earlier.\n",
    "        s.send_message(msg)\n",
    "        del msg\n",
    "        \n",
    "    # Terminate the SMTP session and close the connection\n",
    "    s.quit()"
   ]
  },
  {
   "cell_type": "code",
   "execution_count": null,
   "metadata": {},
   "outputs": [],
   "source": []
  }
 ],
 "metadata": {
  "kernelspec": {
   "display_name": "Python 3",
   "language": "python",
   "name": "python3"
  },
  "language_info": {
   "codemirror_mode": {
    "name": "ipython",
    "version": 3
   },
   "file_extension": ".py",
   "mimetype": "text/x-python",
   "name": "python",
   "nbconvert_exporter": "python",
   "pygments_lexer": "ipython3",
   "version": "3.7.3"
  }
 },
 "nbformat": 4,
 "nbformat_minor": 2
}
